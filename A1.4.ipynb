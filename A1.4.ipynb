{
 "cells": [
  {
   "cell_type": "markdown",
   "id": "c6dc53dc-8d26-4e5b-822c-72afdd72bc4d",
   "metadata": {},
   "source": [
    "En este primer bloque de código se importa el archivo A1.4VinoTinto.csv utilizando la función read_csv de la librería pandas. Posteriormente, se imprimen las dimensiones del dataframe con el atributo shape y, mediante la función head, se muestran las primeras 5 filas del archivo.\n"
   ]
  },
  {
   "cell_type": "code",
   "execution_count": 1,
   "id": "e71374de-bd16-4fea-83e2-9ace5f331e44",
   "metadata": {},
   "outputs": [
    {
     "name": "stdout",
     "output_type": "stream",
     "text": [
      "Dimensiones del data frame:  (1599, 12)\n",
      "   acidezFija  acidezVolatil  acidoCitrico  azucarResidual  cloruros  \\\n",
      "0         7.4           0.70          0.00             1.9     0.076   \n",
      "1         7.8           0.88          0.00             2.6     0.098   \n",
      "2         7.8           0.76          0.04             2.3     0.092   \n",
      "3        11.2           0.28          0.56             1.9     0.075   \n",
      "4         7.4           0.70          0.00             1.9     0.076   \n",
      "\n",
      "   dioxidoAzufreLibre  dioxidoAzufreTotal  densidad    pH  sulfatos  alcohol  \\\n",
      "0                11.0                34.0    0.9978  3.51      0.56      9.4   \n",
      "1                25.0                67.0    0.9968  3.20      0.68      9.8   \n",
      "2                15.0                54.0    0.9970  3.26      0.65      9.8   \n",
      "3                17.0                60.0    0.9980  3.16      0.58      9.8   \n",
      "4                11.0                34.0    0.9978  3.51      0.56      9.4   \n",
      "\n",
      "   calidad  \n",
      "0        5  \n",
      "1        5  \n",
      "2        5  \n",
      "3        6  \n",
      "4        5  \n"
     ]
    }
   ],
   "source": [
    "import pandas as pd\n",
    "df = pd.read_csv(\"A1.4VinoTinto.csv\")\n",
    "print(\"Dimensiones del data frame: \",df.shape)\n",
    "print(df.head(5))"
   ]
  },
  {
   "cell_type": "markdown",
   "id": "a23d945a-3c57-4394-833f-302365fd3383",
   "metadata": {},
   "source": [
    "En el siguiente bloque de código se divide el conjunto de datos en entrenamiento y prueba utilizando la función train_test_split de la librería sklearn.model_selection, asignando un 80% de los datos al entrenamiento y 20% a los de prueba. Posteriormente, se separan las variables independientes (X_train y X_test) de la variable dependiente (Y_train y Y_test), donde la columna calidad se considera como la variable de salida. Finalmente, se imprimen las dimensiones de los subconjuntos de entrenamiento y prueba, así como el total para revisar que todos los datos se tomen en cuenta."
   ]
  },
  {
   "cell_type": "code",
   "execution_count": 2,
   "id": "a81f512d-f6f3-4d71-a200-335052c46451",
   "metadata": {},
   "outputs": [
    {
     "name": "stdout",
     "output_type": "stream",
     "text": [
      "Train: (1279, 12)\n",
      "Test: (320, 12)\n",
      "Total: 1599\n"
     ]
    }
   ],
   "source": [
    "from sklearn.model_selection import train_test_split\n",
    "train, test = train_test_split(df, train_size = 0.8)\n",
    "X_train = train.drop('calidad', axis=1)\n",
    "Y_train = train['calidad']\n",
    "X_test = test.drop('calidad', axis=1)\n",
    "Y_test = test['calidad']\n",
    "print(\"Train:\", train.shape)\n",
    "print(\"Test:\",test.shape)\n",
    "print(\"Total:\",len(train)+len(test))"
   ]
  },
  {
   "cell_type": "markdown",
   "id": "5385c4ca-aa93-42b3-99ee-4c852a317475",
   "metadata": {},
   "source": [
    "En el siguiente bloque de código se utiliza SequentialFeatureSelector de la librería mlxtend.feature_selection para generar la metodología de selección hacia adelante. Se establece que el número de características seleccionadas varíe entre 2 y 8, utilizando como métrica de evaluación el coeficiente de determinación (r2) y validación cruzada con 10 particiones. Finalmente, se muestran en pantalla los índices y los nombres de las características seleccionadas mediante este procedimiento."
   ]
  },
  {
   "cell_type": "code",
   "execution_count": 3,
   "id": "94cc25b2-485e-4f5c-8cf0-5285ad315c19",
   "metadata": {},
   "outputs": [
    {
     "name": "stdout",
     "output_type": "stream",
     "text": [
      "Características seleccionadas forward (índices): (1, 2, 4, 5, 6, 8, 9, 10)\n",
      "Características seleccionadas forward (nombres): ('acidezVolatil', 'acidoCitrico', 'cloruros', 'dioxidoAzufreLibre', 'dioxidoAzufreTotal', 'pH', 'sulfatos', 'alcohol')\n"
     ]
    }
   ],
   "source": [
    "import mlxtend.feature_selection as mlx\n",
    "import sklearn.linear_model as sk\n",
    "sfs_forward = mlx.SequentialFeatureSelector(estimator=sk.LinearRegression(), k_features=(2,8), forward=True, scoring='r2', cv=10)\n",
    "sfs_forward.fit(X_train, Y_train)\n",
    "print(\"Características seleccionadas forward (índices):\", sfs_forward.k_feature_idx_)\n",
    "print(\"Características seleccionadas forward (nombres):\", sfs_forward.k_feature_names_)"
   ]
  },
  {
   "cell_type": "markdown",
   "id": "e1481f8c-f543-4fa5-b368-4e72cbda4b45",
   "metadata": {},
   "source": [
    "En el siguiente bloque de código se construye un modelo de regresión lineal utilizando únicamente las características seleccionadas en el método de selección hacia adelante. Primero, se generan los conjuntos de entrenamiento y prueba (X_train_forward y X_test_forward) a partir de las variables seleccionadas. Posteriormente, se entrena el modelo con los datos de entrenamiento y se realizan predicciones sobre los datos de prueba. Finalmente, se evalúa el desempeño del modelo mediante el coeficiente de determinación R^2, mostrando el valor obtenido en la consola.\n"
   ]
  },
  {
   "cell_type": "code",
   "execution_count": 4,
   "id": "06c4a496-fc9b-4fe1-8536-ce7ab17aba2c",
   "metadata": {},
   "outputs": [
    {
     "name": "stdout",
     "output_type": "stream",
     "text": [
      "R^2 (predicción forward):  0.32944855869752465\n"
     ]
    }
   ],
   "source": [
    "import sklearn.metrics as met\n",
    "X_train_forward = X_train[list(sfs_forward.k_feature_names_)]\n",
    "X_test_forward = X_test[list(sfs_forward.k_feature_names_)]\n",
    "model_forward = sk.LinearRegression()\n",
    "model_forward.fit(X_train_forward, Y_train)\n",
    "Y_pred_forward = model_forward.predict(X_test_forward)\n",
    "r2_forward = met.r2_score(Y_test, Y_pred_forward)\n",
    "print(\"R^2 (predicción forward): \",r2_forward)"
   ]
  },
  {
   "cell_type": "markdown",
   "id": "ee996cdd-2ea3-4ab1-937a-927a18bc8188",
   "metadata": {},
   "source": [
    "En el siguiente bloque de código se vuelve a aplicar el método SequentialFeatureSelector, pero ahora utilizando el método de selección hacia atrás.  \n",
    "En este caso, se emplea como estimador un modelo de regresión lineal, seleccionando entre 2 y 5 características. El parámetro forward=False indica que el proceso se realiza de forma regresiva. Para el fit se utilizan ya las variables de la selección hacia adelante.  La evaluación del modelo se realiza con la métrica r2 y validación cruzada con 10 particiones. Finalmente, se imprimen en pantalla los índices y nombres de las características seleccionadas.\n"
   ]
  },
  {
   "cell_type": "code",
   "execution_count": 5,
   "id": "9bcc9d8d-a04a-4ceb-8e14-f3cfdc20c845",
   "metadata": {},
   "outputs": [
    {
     "name": "stdout",
     "output_type": "stream",
     "text": [
      "Características seleccionadas backward (índices): (0, 2, 4, 6, 7)\n",
      "Características seleccionadas backward (nombres): ('acidezVolatil', 'cloruros', 'dioxidoAzufreTotal', 'sulfatos', 'alcohol')\n"
     ]
    }
   ],
   "source": [
    "sfs_backward = mlx.SequentialFeatureSelector(estimator=sk.LinearRegression(), k_features=(2,5), forward=False, scoring='r2', cv=10)\n",
    "sfs_backward.fit(X_train_forward, Y_train)\n",
    "print(\"Características seleccionadas backward (índices):\", sfs_backward.k_feature_idx_)\n",
    "print(\"Características seleccionadas backward (nombres):\", sfs_backward.k_feature_names_)"
   ]
  },
  {
   "cell_type": "markdown",
   "id": "8c957538-430d-4616-9d9c-cd7354e54e15",
   "metadata": {},
   "source": [
    "En este último bloque de código se construye un modelo de regresión lineal utilizando únicamente las características seleccionadas mediante el método de selección hacia atrás.  Primero, se generan los conjuntos de entrenamiento y prueba (X_train_backward y X_test_backward) a partir de las variables elegidas en dicho proceso. Posteriormente, el modelo se entrena con los datos de entrenamiento y se realizan predicciones sobre los datos de prueba.  Finalmente, se calcula el coeficiente de determinación R^2 para evaluar el desempeño del modelo, mostrando en pantalla el valor obtenido."
   ]
  },
  {
   "cell_type": "code",
   "execution_count": 6,
   "id": "174f6a97-57ce-401d-8e56-d6f8db28fac4",
   "metadata": {},
   "outputs": [
    {
     "name": "stdout",
     "output_type": "stream",
     "text": [
      "R^2 (predicción backward):  0.3228529612466712\n"
     ]
    }
   ],
   "source": [
    "X_train_backward = X_train[list(sfs_backward.k_feature_names_)]\n",
    "X_test_backward = X_test[list(sfs_backward.k_feature_names_)]\n",
    "model_backward = sk.LinearRegression()\n",
    "model_backward.fit(X_train_backward, Y_train)\n",
    "Y_pred_backward = model_backward.predict(X_test_backward)\n",
    "r2_backward = met.r2_score(Y_test, Y_pred_backward)\n",
    "print(\"R^2 (predicción backward): \",r2_backward)"
   ]
  },
  {
   "cell_type": "markdown",
   "id": "adecdc36-a558-4b80-a2b8-7079f20fb00f",
   "metadata": {},
   "source": [
    "Al comparar los valores de R^2 obtenidos con los métodos de selección hacia adelante y hacia atrás, se observa que el método hacia adelante tiene mejores resultados al analizar las distintas corridas del código ( R^2 más cercana a 1). Sin embargo, es importante mencionar que el método hacia atrás se basa en los resultados del método hacia adelante, ya que busca reducir la cantidad de variables utilizadas. Esto se puede observar en la diferencia en el número de características seleccionadas por cada método.\n",
    "\n",
    "Es decir, si bien el modelo de selección hacia adelante es mejor, el método hacia atrás obtiene resultados similares pero con una cantidad menor de características, por lo que dependiendo del uso del modelo puede ser más conveniente utilizar solo el método hacia adelante o también considerar el método hacia atrás. Al final del día, el método hacia atrás tiende a mostrar un desempeño menor porque utiliza menos características, lo cual en algunos casos puede ser beneficioso para el manejo de datos."
   ]
  }
 ],
 "metadata": {
  "kernelspec": {
   "display_name": "Python 3 (ipykernel)",
   "language": "python",
   "name": "python3"
  },
  "language_info": {
   "codemirror_mode": {
    "name": "ipython",
    "version": 3
   },
   "file_extension": ".py",
   "mimetype": "text/x-python",
   "name": "python",
   "nbconvert_exporter": "python",
   "pygments_lexer": "ipython3",
   "version": "3.13.5"
  }
 },
 "nbformat": 4,
 "nbformat_minor": 5
}
